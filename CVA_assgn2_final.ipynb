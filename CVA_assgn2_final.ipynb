{
 "cells": [
  {
   "cell_type": "code",
   "execution_count": 11,
   "id": "6a2df016",
   "metadata": {},
   "outputs": [],
   "source": [
    "import numpy as np\n",
    "import cv2 as cv\n",
    "import matplotlib as plt\n",
    "import glob\n",
    "import imutils\n",
    "import os\n",
    "import math"
   ]
  },
  {
   "cell_type": "code",
   "execution_count": 3,
   "id": "59af303e",
   "metadata": {},
   "outputs": [],
   "source": [
    "# gradient operator\n",
    "def Gradient(image,sobel):\n",
    "    width = image.shape[0]\n",
    "    height= image.shape[1]\n",
    "    \n",
    "    #intialize the INTESITY matrix \n",
    "    intensity = np.zeros((width,height),np.float32)\n",
    "     \n",
    "    for r in range(width):\n",
    "        for c in range(height):\n",
    "            if r>=1 or r<=width-2 and c>=1 or c<=height-2:\n",
    "                for i in range(3):\n",
    "                    for j in range(3):\n",
    "                        intensity[r][c]= intensity[r][c] + sobel[i][j]*image[r-i-1][c-j-1]\n",
    "            else :\n",
    "                intensity[r][c] = image[r][c]\n",
    "                \n",
    "                \n",
    "    return intensity"
   ]
  },
  {
   "cell_type": "code",
   "execution_count": 4,
   "id": "ede0f34a",
   "metadata": {},
   "outputs": [],
   "source": [
    "#HarrisEdge and Corner Detection algorithm\n",
    "\n",
    "def HarrisCornerDetection(img):\n",
    "    \n",
    "    #Convolution mask in horizontal and vertical direction using sobel operator \n",
    "    \n",
    "    sobel_X = np.array([[-1,0,1],[-2,0,2],[-1,0,1]])\n",
    "    sobel_Y =np.array([[-1,-2,-1],[0, 0, 0],[1,2,1]])\n",
    "    \n",
    "    w = img.shape[0]\n",
    "    h = img.shape[1]\n",
    "    \n",
    "    # Gradient of image using Sobel operator\n",
    "    ImgX = Gradient(img, sobel_X)\n",
    "    ImgY = Gradient(img, sobel_Y)\n",
    "    \n",
    "    \n",
    "    \n",
    "    for i in range(w):\n",
    "        for j in range(h):\n",
    "            if ImgY[i][j] < 0:\n",
    "                ImgY[i][j] *= -1\n",
    "            \n",
    "            if ImgX[i][j] < 0:\n",
    "                ImgX[i][j] *= -1\n",
    "                \n",
    "    ImgXX = np.square(ImgX)\n",
    "    ImgYY = np.square(ImgY)\n",
    "    \n",
    "    ImgXY = np.multiply(ImgX, ImgY)\n",
    "    \n",
    "    Sigma = 5\n",
    "    ImgXX = cv.GaussianBlur(ImgXX, (3,3), Sigma)\n",
    "    ImgYY = cv.GaussianBlur(ImgYY, (3,3), Sigma)\n",
    "    ImgXY = cv.GaussianBlur(ImgXY, (3,3), Sigma)\n",
    "    \n",
    "    k = 0.04\n",
    "    R = np.zeros((w, h), np.float32)\n",
    "    # For every pixel find the corner strength\n",
    "    for row in range(w):\n",
    "        for col in range(h):\n",
    "            M = np.array([[ImgXX[row][col], ImgXY[row][col]], [ImgXY[row][col], ImgYY[row][col]]])\n",
    "#             l1,l2 = np.linalg.eigvals(M_bar)\n",
    "#             print(l1)\n",
    "#             print(l2)\n",
    "            # Determinant and scaled trace of matrix \n",
    "            R[row][col] = np.linalg.det(M) - (k * np.square(np.trace(M)))\n",
    "    return R\n",
    "\n",
    "\n"
   ]
  },
  {
   "cell_type": "code",
   "execution_count": 5,
   "id": "8bcd0f6b",
   "metadata": {},
   "outputs": [],
   "source": [
    "def load_image(img_path):\n",
    "\n",
    "    img = cv.imread(img_path, cv.IMREAD_COLOR)\n",
    "\n",
    "    h, w, _ = img.shape\n",
    "    #print(h,w)\n",
    "    if h > 800 or w > 600:\n",
    "        print(\"resizing image to 800 x 500\")\n",
    "        img = cv.resize(img, (500, 800))\n",
    "\n",
    "    return img"
   ]
  },
  {
   "cell_type": "code",
   "execution_count": 6,
   "id": "a9d53f66",
   "metadata": {},
   "outputs": [],
   "source": [
    "def Harris_main(img):\n",
    "   \n",
    "    gray = cv.cvtColor(img, cv.COLOR_BGR2GRAY)\n",
    "    bgr = cv.cvtColor(gray, cv.COLOR_GRAY2RGB)\n",
    "\n",
    "    w = gray.shape[0]\n",
    "    h = gray.shape[1]\n",
    "    R = HarrisCornerDetection(gray)\n",
    "\n",
    "\n",
    "# This parameter will need tuning based on the use-case\n",
    "    CornerStrengthThreshold = 600000\n",
    "\n",
    "# Plot detected corners on image\n",
    "    radius = 2\n",
    "    color = (0, 0, 255)  # Green\n",
    "    thickness = 1\n",
    "\n",
    "    cornerList = []\n",
    "    #comapring If the R value is greater than the threshold or not\n",
    "    for row in range(w):\n",
    "        for col in range(h):\n",
    "            if R[row][col] > CornerStrengthThreshold:\n",
    "            # print(R[row][col])\n",
    "                max = R[row][col]\n",
    "\n",
    "            # Local non-maxima suppression\n",
    "                skip = False\n",
    "                for nrow in range(5):\n",
    "                    for ncol in range(5):\n",
    "                        if row + nrow - 2 < w and col + ncol - 2 < h:\n",
    "                            if R[row + nrow - 2][col + ncol - 2] > max:\n",
    "                                skip = True\n",
    "                                break\n",
    "\n",
    "                if not skip:\n",
    "                # Point is expressed in x, y which is col, row\n",
    "               # cv.circle(bgr, (col, row), radius, color, thickness)\n",
    "                    cv.rectangle(img, (col-radius, row-radius),(col+radius,row+radius), color, thickness)\n",
    "                    cornerList.append((row, col))\n",
    "                    \n",
    "    return (img,cornerList,R)"
   ]
  },
  {
   "cell_type": "code",
   "execution_count": 11,
   "id": "04aa6142",
   "metadata": {},
   "outputs": [
    {
     "name": "stdout",
     "output_type": "stream",
     "text": [
      "resizing image to 800 x 500\n"
     ]
    }
   ],
   "source": [
    "input_path = 'D:\\Mtech 2022-24\\Semester 2\\Computer Vision Assignment\\Assignment2\\input\\input7.jpg'\n",
    "\n",
    "img = load_image(input_path)\n",
    "img,cornerList,R = Harris_main(img)\n",
    "\n",
    "\n",
    "cv.imshow(\"Corners_Detection\", img)\n",
    "outname = 'D:\\Mtech 2022-24\\Semester 2\\Computer Vision Assignment\\Assignment2\\input\\output\\input7_out.png' + \".png\"\n",
    "cv.imwrite(outname, img)\n",
    "\n",
    "cv.waitKey(0)\n",
    "cv.destroyAllWindows()\n"
   ]
  },
  {
   "cell_type": "markdown",
   "id": "00f14628",
   "metadata": {},
   "source": [
    "## SSD CALCULATION"
   ]
  },
  {
   "cell_type": "code",
   "execution_count": 7,
   "id": "98bb6a71",
   "metadata": {},
   "outputs": [],
   "source": [
    "def calculate_ssd(img1,img2,cornerList1,cornerList2,R1,R2):\n",
    "    l1= len(cornerList1)\n",
    "    l2= len(cornerList2)\n",
    "    print(l1,l2)\n",
    "#     R1 = HarrisCornerDetection(img1)\n",
    "#     R2 = HarrisCornerDetection(img2)\n",
    "    corner_map=[]\n",
    "    for i in range (l1):\n",
    "        x,y= cornerList1[i]\n",
    "        #print(cornerList1[i])\n",
    "        coord = [x,x,y,y]\n",
    "        \n",
    "        if (x-10>=0):\n",
    "            coord[0]=x-10\n",
    "        else:\n",
    "            coord[0]=0\n",
    "        if(x+11<img2.shape[0]):\n",
    "            coord[1]=x+11\n",
    "        else:\n",
    "            coord[1]=img2.shape[0]\n",
    "        \n",
    "        if (y-10>=0):\n",
    "            coord[2]=y-10\n",
    "        else:\n",
    "            coord[2]=0\n",
    "        if(y+11<img2.shape[1]):\n",
    "            coord[3]=y+11\n",
    "        else:\n",
    "            coord[3]=img2.shape[1]\n",
    "        \n",
    "        #print(coord)\n",
    "        min_ssd = np.inf\n",
    "        best_match = None\n",
    "        for j in range (l2):\n",
    "            #print(x,y,min_ssd)\n",
    "            if ((cornerList2[j][0]>=coord[0] and cornerList2[j][0]<coord[1] and cornerList2[j][1]>=coord[2] and cornerList2[j][1]<coord[3] )==True):\n",
    "                ssd = (R1[x][y]-R2[cornerList2[j][0]][cornerList2[j][1]])**2\n",
    "                if ssd < min_ssd :\n",
    "                    min_ssd = ssd\n",
    "                    best_match = cornerList2[j]\n",
    "        #print(best_match,min_ssd)\n",
    "        corner_map.append([cornerList1[i],best_match,min_ssd])\n",
    "            \n",
    "    return corner_map\n"
   ]
  },
  {
   "cell_type": "code",
   "execution_count": 13,
   "id": "9293efa2",
   "metadata": {},
   "outputs": [
    {
     "name": "stdout",
     "output_type": "stream",
     "text": [
      "resizing image to 800 x 500\n"
     ]
    }
   ],
   "source": [
    "input_path1 = 'D:\\\\Mtech 2022-24\\\\Semester 2\\\\Computer Vision Assignment\\\\Assignment2\\\\input\\\\input7.jpg'\n",
    "#input_path1 = 'D:\\\\Mtech 2022-24\\\\Semester 2\\\\Computer Vision Assignment\\\\Assignment2\\\\New Dataset\\\\1\\\\image 0.jpg'\n",
    "\n",
    "\n",
    "img1 = load_image(input_path1)\n",
    "_,cornerList1,R1 = Harris_main(img1)"
   ]
  },
  {
   "cell_type": "code",
   "execution_count": 12,
   "id": "bfeeabb3",
   "metadata": {},
   "outputs": [
    {
     "name": "stdout",
     "output_type": "stream",
     "text": [
      "resizing image to 800 x 500\n"
     ]
    }
   ],
   "source": [
    "#input_path2 = 'D:\\\\Mtech 2022-24\\\\Semester 2\\\\Computer Vision Assignment\\\\Assignment2\\\\New Dataset\\\\1\\\\image 1.jpg'\n",
    "input_path2 = 'D:\\\\Mtech 2022-24\\\\Semester 2\\\\Computer Vision Assignment\\\\Assignment2\\\\input\\\\input7.jpg'\n",
    "\n",
    "img2 = load_image(input_path2)\n",
    "img2,cornerList2,R2 = Harris_main(img2)"
   ]
  },
  {
   "cell_type": "code",
   "execution_count": 16,
   "id": "4050b513",
   "metadata": {},
   "outputs": [
    {
     "name": "stdout",
     "output_type": "stream",
     "text": [
      "132 132\n"
     ]
    }
   ],
   "source": [
    "\n",
    "# Convert frames to grayscale\n",
    "frame1_gray = cv.cvtColor(img1, cv.COLOR_BGR2GRAY)\n",
    "frame2_gray = cv.cvtColor(img2, cv.COLOR_BGR2GRAY)\n",
    "\n",
    "mapl =calculate_ssd(frame1_gray,frame2_gray,cornerList1,cornerList2,R1,R2)"
   ]
  },
  {
   "cell_type": "code",
   "execution_count": null,
   "id": "163f5376",
   "metadata": {},
   "outputs": [],
   "source": []
  },
  {
   "cell_type": "code",
   "execution_count": null,
   "id": "f413f187",
   "metadata": {},
   "outputs": [],
   "source": [
    "len(mapl)"
   ]
  },
  {
   "cell_type": "code",
   "execution_count": 17,
   "id": "9d82f068",
   "metadata": {},
   "outputs": [],
   "source": [
    "new_image = cv.hconcat([img1, img2])\n",
    "color = (0, 0, 255)  # Green\n",
    "thickness = 1\n",
    "k =len(mapl)\n",
    "maxi = 0\n",
    "for i in range (k):\n",
    "    if(mapl[i][2]>maxi):\n",
    "        maxi = mapl[i][2]\n",
    "\n",
    "threshold = (0.01)*maxi\n",
    "for i in range (0,k):\n",
    "    if(mapl[i][2]== np.Inf):\n",
    "        x=0\n",
    "    elif(mapl[i][2]<=threshold):\n",
    "        cv.line(new_image,(mapl[i][0][1],mapl[i][0][0]),(img1.shape[1]+ mapl[i][1][1],mapl[i][1][0]),color,thickness)\n",
    "\n",
    "outname = 'D:\\Mtech 2022-24\\Semester 2\\Computer Vision Assignment\\Assignment2\\input\\output\\input4_SSD_out.png' + \".png\"\n",
    "cv.imwrite(outname, new_image)\n",
    "\n",
    "cv.imshow(\"images\",new_image)\n",
    "cv.waitKey(0)\n",
    "cv.destroyAllWindows()"
   ]
  },
  {
   "cell_type": "markdown",
   "id": "a501005f",
   "metadata": {},
   "source": [
    "\n",
    "## Affine Matrix "
   ]
  },
  {
   "cell_type": "code",
   "execution_count": 8,
   "id": "7ec5b46a",
   "metadata": {},
   "outputs": [
    {
     "name": "stdout",
     "output_type": "stream",
     "text": [
      "resizing image to 800 x 500\n",
      "resizing image to 800 x 500\n",
      "resizing image to 800 x 500\n",
      "resizing image to 800 x 500\n",
      "resizing image to 800 x 500\n",
      "resizing image to 800 x 500\n",
      "resizing image to 800 x 500\n",
      "resizing image to 800 x 500\n",
      "resizing image to 800 x 500\n",
      "resizing image to 800 x 500\n",
      "resizing image to 800 x 500\n",
      "resizing image to 800 x 500\n",
      "resizing image to 800 x 500\n",
      "resizing image to 800 x 500\n",
      "resizing image to 800 x 500\n",
      "resizing image to 800 x 500\n",
      "resizing image to 800 x 500\n",
      "resizing image to 800 x 500\n",
      "resizing image to 800 x 500\n",
      "resizing image to 800 x 500\n",
      "resizing image to 800 x 500\n",
      "resizing image to 800 x 500\n",
      "resizing image to 800 x 500\n",
      "resizing image to 800 x 500\n",
      "resizing image to 800 x 500\n",
      "resizing image to 800 x 500\n",
      "resizing image to 800 x 500\n",
      "resizing image to 800 x 500\n",
      "resizing image to 800 x 500\n",
      "resizing image to 800 x 500\n",
      "resizing image to 800 x 500\n",
      "resizing image to 800 x 500\n",
      "resizing image to 800 x 500\n",
      "resizing image to 800 x 500\n",
      "resizing image to 800 x 500\n",
      "resizing image to 800 x 500\n",
      "resizing image to 800 x 500\n",
      "resizing image to 800 x 500\n",
      "resizing image to 800 x 500\n",
      "resizing image to 800 x 500\n",
      "resizing image to 800 x 500\n",
      "resizing image to 800 x 500\n",
      "resizing image to 800 x 500\n",
      "resizing image to 800 x 500\n",
      "resizing image to 800 x 500\n"
     ]
    }
   ],
   "source": [
    "#path = 'D:\\\\Mtech 2022-24\\\\Semester 2\\\\Computer Vision Assignment\\\\Assignment2\\\\New Dataset\\\\2\\\\*.jpg'\n",
    "path = 'D:\\\\Mtech 2022-24\\\\Semester 2\\\\Computer Vision Assignment\\\\Assignment2\\\\New Dataset1\\\\1\\\\*.jpg'\n",
    "\n",
    "images =[]\n",
    "image = []\n",
    "# Loop through all the image files in the folder\n",
    "for file in glob.glob(path):\n",
    "    \n",
    "    # Read the image file\n",
    "    x = load_image(file)\n",
    "    images.append(load_image(file))\n",
    "    image.append(load_image(file))\n"
   ]
  },
  {
   "cell_type": "code",
   "execution_count": 20,
   "id": "fe8858f5",
   "metadata": {},
   "outputs": [],
   "source": [
    "cv.imshow(\"hh\",image[0])\n",
    "cv.waitKey(0)\n",
    "cv.destroyAllWindows()\n"
   ]
  },
  {
   "cell_type": "code",
   "execution_count": 9,
   "id": "605fc8c0",
   "metadata": {},
   "outputs": [
    {
     "name": "stdout",
     "output_type": "stream",
     "text": [
      "Calculating Corner Points for 1 image :\n",
      "done for 1 : \n",
      "Calculating Corner Points for 2 image :\n",
      "done for 2 : \n",
      "Calculating Corner Points for 3 image :\n",
      "done for 3 : \n",
      "Calculating Corner Points for 4 image :\n",
      "done for 4 : \n",
      "Calculating Corner Points for 5 image :\n",
      "done for 5 : \n",
      "Calculating Corner Points for 6 image :\n",
      "done for 6 : \n",
      "Calculating Corner Points for 7 image :\n",
      "done for 7 : \n",
      "Calculating Corner Points for 8 image :\n",
      "done for 8 : \n",
      "Calculating Corner Points for 9 image :\n",
      "done for 9 : \n",
      "Calculating Corner Points for 10 image :\n",
      "done for 10 : \n",
      "Calculating Corner Points for 11 image :\n",
      "done for 11 : \n",
      "Calculating Corner Points for 12 image :\n",
      "done for 12 : \n",
      "Calculating Corner Points for 13 image :\n",
      "done for 13 : \n",
      "Calculating Corner Points for 14 image :\n",
      "done for 14 : \n",
      "Calculating Corner Points for 15 image :\n",
      "done for 15 : \n"
     ]
    }
   ],
   "source": [
    "cornerList = []\n",
    "R = []\n",
    "for i in range (len(images)):\n",
    "   # image= images[i]\n",
    "    print(\"Calculating Corner Points for %d image :\" %(i+1))\n",
    "    _,cornerList1,R1 = Harris_main(images[i])\n",
    "    cornerList.append(cornerList1)\n",
    "   # image.append(image1)\n",
    "    R.append(R1)\n",
    "    print(\"done for %d : \" %(i+1))"
   ]
  },
  {
   "cell_type": "code",
   "execution_count": 12,
   "id": "e6c56ee7",
   "metadata": {},
   "outputs": [],
   "source": [
    "def correspondence_pts(mapl):\n",
    "    k =len(mapl)\n",
    "    mapl2 =[]\n",
    "    maxi = 0\n",
    "    for i in range (k):\n",
    "        if(mapl[i][2]>maxi):\n",
    "            maxi = mapl[i][2]\n",
    "\n",
    "    threshold = (0.01)*maxi\n",
    "    for i in range (0,k):\n",
    "        if(mapl[i][2]== np.Inf):\n",
    "            x=0\n",
    "        elif(mapl[i][2]<=threshold):\n",
    "            mapl2.append(mapl[i])\n",
    "            \n",
    "    return mapl2"
   ]
  },
  {
   "cell_type": "code",
   "execution_count": 13,
   "id": "30a9b334",
   "metadata": {},
   "outputs": [
    {
     "name": "stdout",
     "output_type": "stream",
     "text": [
      "2118 2087\n",
      "2087 2097\n",
      "2097 2079\n",
      "2079 2104\n",
      "2104 2111\n",
      "2111 2103\n",
      "2103 2124\n",
      "2124 2075\n",
      "2075 2093\n",
      "2093 2111\n",
      "2111 2135\n",
      "2135 2079\n",
      "2079 2099\n",
      "2099 2066\n"
     ]
    }
   ],
   "source": [
    "mapList = []\n",
    "for j in range (len(images)-1):\n",
    "    mapl =calculate_ssd(cv.cvtColor(images[j], cv.COLOR_BGR2GRAY),cv.cvtColor(images[j+1], cv.COLOR_BGR2GRAY),cornerList[j],cornerList[j+1],R[j],R[j+1])\n",
    "    mapl = correspondence_pts(mapl)\n",
    "    mapList.append(mapl)"
   ]
  },
  {
   "cell_type": "code",
   "execution_count": null,
   "id": "f16837ff",
   "metadata": {},
   "outputs": [],
   "source": [
    "len(mapList)"
   ]
  },
  {
   "cell_type": "code",
   "execution_count": 14,
   "id": "d8dadcda",
   "metadata": {},
   "outputs": [],
   "source": [
    "affines = []\n",
    "for a in range (len(mapList)):\n",
    "    temp =mapList[0]\n",
    "    matching = np.zeros((2*len(temp),6),dtype=int)\n",
    "    for i in range (0,2*len(temp),1):\n",
    "        if(i%2 == 0):\n",
    "            x=int(i/2)\n",
    "            matching[i][0]=temp[x][0][1]\n",
    "            matching[i][1]=temp[x][0][0]\n",
    "            matching[i][2]=1\n",
    "            matching[i][3]=0\n",
    "            matching[i][4]=0\n",
    "            matching[i][4]=0\n",
    "        elif(i%2==1):\n",
    "            x=int(i/2)\n",
    "            matching[i][0]=0\n",
    "            matching[i][1]=0\n",
    "            matching[i][2]=0\n",
    "            matching[i][3]=temp[x][0][1]\n",
    "            matching[i][4]=temp[x][0][0]\n",
    "            matching[i][5]=1\n",
    "    \n",
    "    variable = np.zeros((2*len(temp),1),dtype=int)\n",
    "    for i in range(2*len(temp)):\n",
    "        if(i%2 == 0):\n",
    "            x=int(i/2)\n",
    "            variable[i]=temp[x][1][1]\n",
    "        elif(i%2==1):\n",
    "            x=int(i/2)\n",
    "            variable[i]=temp[x][1][0]\n",
    "    straightAffine = np.linalg.lstsq(matching,variable,rcond=-1)[0]\n",
    "#         print(straightAffine)\n",
    "    shape = (3,3)\n",
    "    affineMatrix = np.zeros(shape)\n",
    "    affineMatrix[0][0]= straightAffine[0]\n",
    "    affineMatrix[0][1] = straightAffine[1]\n",
    "    affineMatrix[0][2] = straightAffine[2]\n",
    "    affineMatrix[1][0] = straightAffine[3]\n",
    "    affineMatrix[1][1] = straightAffine[4]\n",
    "    affineMatrix[1][2] = straightAffine[5]\n",
    "    affineMatrix[2][2]=1\n",
    "    affines.append(affineMatrix)"
   ]
  },
  {
   "cell_type": "code",
   "execution_count": 15,
   "id": "f7766dc8",
   "metadata": {},
   "outputs": [
    {
     "data": {
      "text/plain": [
       "14"
      ]
     },
     "execution_count": 15,
     "metadata": {},
     "output_type": "execute_result"
    }
   ],
   "source": [
    "len(affines)"
   ]
  },
  {
   "cell_type": "code",
   "execution_count": 16,
   "id": "23f8e6ae",
   "metadata": {},
   "outputs": [
    {
     "data": {
      "text/plain": [
       "array([[ 1.00086920e+00, -1.86029077e-04, -8.28708802e-01],\n",
       "       [-5.28027749e-04,  9.99096422e-01,  6.72120954e-01],\n",
       "       [ 0.00000000e+00,  0.00000000e+00,  1.00000000e+00]])"
      ]
     },
     "execution_count": 16,
     "metadata": {},
     "output_type": "execute_result"
    }
   ],
   "source": [
    "affines[1]"
   ]
  },
  {
   "cell_type": "code",
   "execution_count": 17,
   "id": "6a4329e4",
   "metadata": {},
   "outputs": [
    {
     "data": {
      "text/plain": [
       "array([[ 1.01224670e+00, -2.60388495e-03, -1.16791063e+01],\n",
       "       [-7.39090646e-03,  9.87432849e-01,  9.39446585e+00],\n",
       "       [ 0.00000000e+00,  0.00000000e+00,  1.00000000e+00]])"
      ]
     },
     "execution_count": 17,
     "metadata": {},
     "output_type": "execute_result"
    }
   ],
   "source": [
    "affine_cumm = []\n",
    "affine_cumm.append(affines[0])\n",
    "for i in range(1,len(affines)):\n",
    "    affine_cumm.append(np.matmul(affines[i],affine_cumm[i-1]))\n",
    "    \n",
    "M=affine_cumm[len(affines)-1]\n",
    "M"
   ]
  },
  {
   "cell_type": "code",
   "execution_count": 18,
   "id": "680ed66d",
   "metadata": {},
   "outputs": [
    {
     "data": {
      "text/plain": [
       "14"
      ]
     },
     "execution_count": 18,
     "metadata": {},
     "output_type": "execute_result"
    }
   ],
   "source": [
    "len(affine_cumm)"
   ]
  },
  {
   "cell_type": "code",
   "execution_count": 19,
   "id": "cc7ad67f",
   "metadata": {},
   "outputs": [
    {
     "data": {
      "text/plain": [
       "(816, 518, 3)"
      ]
     },
     "execution_count": 19,
     "metadata": {},
     "output_type": "execute_result"
    }
   ],
   "source": [
    "r = image[0].shape[0]\n",
    "c = image[0].shape[1]\n",
    "ty = int(np.ceil(np.abs(M[1][2])))\n",
    "tx = int( np.ceil(np.abs(M[0][2])))\n",
    "e=6\n",
    "rows = r + ty + 6\n",
    "cols = c +tx + 6\n",
    "final_image = np.zeros((rows, cols, 3))\n",
    "final_image.shape\n"
   ]
  },
  {
   "cell_type": "code",
   "execution_count": null,
   "id": "1a7fbd53",
   "metadata": {},
   "outputs": [],
   "source": []
  },
  {
   "cell_type": "code",
   "execution_count": 20,
   "id": "98f6ee99",
   "metadata": {},
   "outputs": [],
   "source": [
    "\n",
    "for i in range(r):\n",
    "    for j in range(c):\n",
    "        final_image[i][j] = image[0][i][j]\n",
    "        \n",
    "for k in range(len(image)-1): #len(image)\n",
    "    for i in range(rows):\n",
    "        for j in range(cols):\n",
    "            shape = (3,1)\n",
    "            point = np.zeros(shape)\n",
    "            new_point = np.zeros(shape)\n",
    "            point[0][0] = j\n",
    "            point[1][0] = i\n",
    "            point[2][0] = 1\n",
    "            new_point = np.matmul(affine_cumm[k], point)\n",
    "            x_prime = new_point[0][0]\n",
    "            y_prime = new_point[1][0]\n",
    "            if(x_prime<0 or y_prime<0 or x_prime >= c or y_prime >= r):\n",
    "                continue\n",
    "                \n",
    "            x_ceil = math.ceil(x_prime)\n",
    "            if(x_ceil >= c ):\n",
    "                x_ceil = c - 1\n",
    "\n",
    "            y_ceil = math.ceil(y_prime)\n",
    "            if(y_ceil >= r):\n",
    "                y_ceil = r  -1 \n",
    "\n",
    "            x_floor = math.floor(x_prime)\n",
    "            if(x_floor >= c ):\n",
    "                x_floor = c - 1\n",
    "\n",
    "            y_floor = math.floor(y_prime)\n",
    "            if(y_floor >= r):\n",
    "                y_floor = r-1 \n",
    "            \n",
    "            sum_intensity = np.zeros(3)\n",
    "            int1 = abs(y_floor - i) * abs(x_floor - j)\n",
    "            int2 = abs(y_floor - i) * abs(x_ceil - j)\n",
    "            int3 = abs(y_ceil - i) * abs(x_floor - j)\n",
    "            int4 = abs(y_ceil - i) * abs(x_ceil - j)\n",
    "            totalIntensity = int1 + int2 + int3 + int4\n",
    "            if (totalIntensity == 0):\n",
    "                final_image[i][j] = image[k+1][y_floor][x_floor]\n",
    "            else :\n",
    "                sum_intensity = (int1/totalIntensity) * image[k+1][y_floor][x_floor] + (int2/totalIntensity) * image[k+1][y_floor][x_ceil]  + (int3/totalIntensity) * image[k+1][y_ceil][x_floor]  + (int4/totalIntensity) * image[k+1][y_ceil][x_ceil]\n",
    "                final_image[i][j] = sum_intensity"
   ]
  },
  {
   "cell_type": "code",
   "execution_count": null,
   "id": "7042e01d",
   "metadata": {},
   "outputs": [],
   "source": [
    "# for i in range(r):\n",
    "#     for j in range(c):\n",
    "#         final_image[i][j] = image[0][i][j]\n",
    "# #cv.imshow(\"image5\",final_image)\n",
    "# cv.imwrite('D:\\\\Mtech 2022-24\\\\Semester 2\\\\Computer Vision Assignment\\\\Assignment2\\\\New Dataset\\\\pano\\\\check.jpg',final_image)\n",
    "# cv.waitKey(0)\n",
    "# cv.destroyAllWindows()"
   ]
  },
  {
   "cell_type": "code",
   "execution_count": 21,
   "id": "b829851b",
   "metadata": {},
   "outputs": [],
   "source": [
    "#cv.imshow(\"image5\",final_image)\n",
    "cv.imwrite('D:\\\\Mtech 2022-24\\\\Semester 2\\\\Computer Vision Assignment\\\\Assignment2\\\\New Dataset\\\\pano\\\\Panoroma_1.jpg',final_image)\n",
    "cv.waitKey(0)\n",
    "cv.destroyAllWindows()"
   ]
  },
  {
   "cell_type": "code",
   "execution_count": null,
   "id": "fe29ef52",
   "metadata": {},
   "outputs": [],
   "source": [
    "import cv2\n",
    "import numpy as np\n",
    "\n",
    "def stitch_images(img1, img2, affine_matrix):\n",
    "    # Find the dimensions of the output image\n",
    "    height = img1.shape[0]\n",
    "    width = img1.shape[1]+1\n",
    "    corners = np.array([[0, 0], [0, height], [width, 0], [width, height]])\n",
    "    transformed_corners = cv2.transform(np.float32([corners]), affine_matrix)[0]\n",
    "    panorama_width = int(max(transformed_corners[:, 0])) + 1\n",
    "    panorama_height = int(max(transformed_corners[:, 1])) + 1\n",
    "\n",
    "    # Create an output image and stitch the input images using bilinear interpolation\n",
    "    panorama = np.zeros((panorama_height, panorama_width, 3), np.uint8)\n",
    "    panorama[:height, :width] = img1\n",
    "    for x in range(width):\n",
    "        for y in range(height):\n",
    "            # Apply the transformation to the coordinates of the current pixel\n",
    "            transformed_point = np.dot(affine_matrix, [x, y, 1])\n",
    "            x_prime, y_prime = transformed_point[:2] / transformed_point[2]\n",
    "\n",
    "            # Perform bilinear interpolation to get the color of the transformed pixel\n",
    "            if 0 <= x_prime < panorama_width and 0 <= y_prime < panorama_height:\n",
    "                x0, y0 = int(x_prime), int(y_prime)\n",
    "                x1, y1 = x0 + 1, y0 + 1\n",
    "                if x1 < panorama_width and y1 < panorama_height:\n",
    "                    c00 = img1[y, x]\n",
    "                    c01 = img2[int(y_prime), int(x_prime)]\n",
    "                    c10 = img1[y, x]\n",
    "                    c11 = img2[int(y_prime), int(x_prime)+1]\n",
    "                    tx, ty = x_prime - x0, y_prime - y0\n",
    "                    panorama[y0, x0] = (1-tx)*(1-ty)*c00 + tx*(1-ty)*c10 + (1-tx)*ty*c01 + tx*ty*c11\n",
    "\n",
    "    return panorama"
   ]
  },
  {
   "cell_type": "code",
   "execution_count": null,
   "id": "059f9842",
   "metadata": {},
   "outputs": [],
   "source": [
    "final_image1 = np.zeros((rows, cols, 3))\n",
    "final_image1.shape\n",
    "for i in range(r):\n",
    "    for j in range(c):\n",
    "        final_image1[i][j] = image[0][i][j]\n",
    "        \n",
    "for k in range(len(image)-1):\n",
    "    for i in range(rows):\n",
    "        for j in range(cols):\n",
    "            shape = (3,1)\n",
    "            point = np.zeros(shape)\n",
    "            new_point = np.zeros(shape)\n",
    "            point[0][0] = j\n",
    "            point[1][0] = i\n",
    "            point[2][0] = 1\n",
    "            new_point = np.matmul(affine_cumm[k], point)\n",
    "            x_prime = new_point[0][0]\n",
    "            y_prime = new_point[1][0]\n",
    "            if(x_prime<0 or y_prime<0 or x_prime >= c or y_prime >= r ):\n",
    "                continue\n",
    "                \n",
    "            x_ceil = math.ceil(x_prime)\n",
    "            if(x_ceil >= c ):\n",
    "                x_ceil = c - 1\n",
    "\n",
    "            y_ceil = math.ceil(y_prime)\n",
    "            if(y_ceil >= r):\n",
    "                y_ceil = r  -1 \n",
    "\n",
    "            x_floor = math.floor(x_prime)\n",
    "            if(x_floor >= c ):\n",
    "                x_floor = c - 1\n",
    "\n",
    "            y_floor = math.floor(y_prime)\n",
    "            if(y_floor >= r):\n",
    "                y_floor = r-1 \n",
    "            \n",
    "            sum_intensity = np.zeros(3)\n",
    "            int1 = abs(y_floor - i) * abs(x_floor - j)\n",
    "            int2 = abs(y_floor - i) * abs(x_ceil - j)\n",
    "            int3 = abs(y_ceil - i) * abs(x_floor - j)\n",
    "            int4 = abs(y_ceil - i) * abs(x_ceil - j)\n",
    "            totalIntensity = int1 + int2 + int3 + int4\n",
    "            if (totalIntensity == 0):\n",
    "                final_image1[i][j] = image[k+1][y_floor][x_floor]\n",
    "            else :\n",
    "                sum_intensity = (int1/totalIntensity) * image[k+1][y_floor][x_floor] + (int2/totalIntensity) * image[k+1][y_floor][x_ceil]  + (int3/totalIntensity) * image[k+1][y_ceil][x_floor]  + (int4/totalIntensity) * image[k+1][y_ceil][x_ceil]\n",
    "                final_image1[i][j] = sum_intensity"
   ]
  },
  {
   "cell_type": "code",
   "execution_count": null,
   "id": "7845fa3e",
   "metadata": {},
   "outputs": [],
   "source": [
    "cv.imwrite('D:\\\\Mtech 2022-24\\\\Semester 2\\\\Computer Vision Assignment\\\\Assignment2\\\\New Dataset\\\\pano\\\\Panoroma_2check.jpg',final_image1)\n",
    "cv.waitKey(0)\n",
    "cv.destroyAllWindows()"
   ]
  },
  {
   "cell_type": "markdown",
   "id": "72e6b125",
   "metadata": {},
   "source": [
    "## End"
   ]
  }
 ],
 "metadata": {
  "kernelspec": {
   "display_name": "Python 3 (ipykernel)",
   "language": "python",
   "name": "python3"
  },
  "language_info": {
   "codemirror_mode": {
    "name": "ipython",
    "version": 3
   },
   "file_extension": ".py",
   "mimetype": "text/x-python",
   "name": "python",
   "nbconvert_exporter": "python",
   "pygments_lexer": "ipython3",
   "version": "3.10.7"
  }
 },
 "nbformat": 4,
 "nbformat_minor": 5
}
